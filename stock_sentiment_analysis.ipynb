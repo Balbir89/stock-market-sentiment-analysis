{
  "nbformat": 4,
  "nbformat_minor": 0,
  "metadata": {
    "colab": {
      "provenance": [],
      "authorship_tag": "ABX9TyN98gvKGE8+EgVOsy9uoiku",
      "include_colab_link": true
    },
    "kernelspec": {
      "name": "python3",
      "display_name": "Python 3"
    },
    "language_info": {
      "name": "python"
    }
  },
  "cells": [
    {
      "cell_type": "markdown",
      "metadata": {
        "id": "view-in-github",
        "colab_type": "text"
      },
      "source": [
        "<a href=\"https://colab.research.google.com/github/Balbir89/stock-market-sentiment-analysis/blob/main/stock_sentiment_analysis.ipynb\" target=\"_parent\"><img src=\"https://colab.research.google.com/assets/colab-badge.svg\" alt=\"Open In Colab\"/></a>"
      ]
    },
    {
      "cell_type": "code",
      "source": [
        "import pandas as pd\n",
        "\n",
        "# Your Alpha Vantage API Key\n",
        "api_key = \"72fbbb74485947c49c486390c024438b\"\n",
        "\n",
        "# List of stock symbols (you can add more)\n",
        "symbols = [\"AAPL\", \"GOOG\", \"TSLA\", \"MSFT\", \"AMZN\"]\n",
        "\n",
        "# Loop through each symbol and save its data\n",
        "for symbol in symbols:\n",
        "    print(f\"Fetching data for {symbol}...\")\n",
        "    url = (\n",
        "        f\"https://www.alphavantage.co/query\"\n",
        "        f\"?function=TIME_SERIES_DAILY\"\n",
        "        f\"&symbol={symbol}\"\n",
        "        f\"&outputsize=compact\"\n",
        "        f\"&datatype=csv\"\n",
        "        f\"&apikey={api_key}\"\n",
        "    )\n",
        "\n",
        "    try:\n",
        "        df = pd.read_csv(url)\n",
        "        filename = f\"{symbol}_daily.csv\"\n",
        "        df.to_csv(filename, index=False)\n",
        "        print(f\"✅ Saved: {filename}\")\n",
        "    except Exception as e:\n",
        "        print(f\"❌ Failed for {symbol}: {e}\")\n"
      ],
      "metadata": {
        "colab": {
          "base_uri": "https://localhost:8080/"
        },
        "id": "zhTDWfDiEpFh",
        "outputId": "13cee3da-2ce0-4737-a549-3cf68bd553ab"
      },
      "execution_count": 6,
      "outputs": [
        {
          "output_type": "stream",
          "name": "stdout",
          "text": [
            "Fetching data for AAPL...\n",
            "✅ Saved: AAPL_daily.csv\n",
            "Fetching data for GOOG...\n",
            "✅ Saved: GOOG_daily.csv\n",
            "Fetching data for TSLA...\n",
            "✅ Saved: TSLA_daily.csv\n",
            "Fetching data for MSFT...\n",
            "✅ Saved: MSFT_daily.csv\n",
            "Fetching data for AMZN...\n",
            "✅ Saved: AMZN_daily.csv\n"
          ]
        }
      ]
    },
    {
      "cell_type": "markdown",
      "source": [
        "# New Section"
      ],
      "metadata": {
        "id": "B-8E4qZlFZzf"
      }
    },
    {
      "cell_type": "code",
      "source": [
        "from google.colab import drive\n",
        "drive.mount('/content/drive')"
      ],
      "metadata": {
        "colab": {
          "base_uri": "https://localhost:8080/"
        },
        "id": "1EARjlv9EvZu",
        "outputId": "984054d0-5f38-4a22-c8ec-ac5a16998646"
      },
      "execution_count": 7,
      "outputs": [
        {
          "output_type": "stream",
          "name": "stdout",
          "text": [
            "Mounted at /content/drive\n"
          ]
        }
      ]
    }
  ]
}